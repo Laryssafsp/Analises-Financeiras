{
 "cells": [
  {
   "cell_type": "code",
   "execution_count": 1,
   "metadata": {
    "colab": {
     "base_uri": "https://localhost:8080/"
    },
    "id": "-elYkahnlvfi",
    "outputId": "4574515a-fb84-45a6-a3e6-2279510925b4"
   },
   "outputs": [
    {
     "name": "stdout",
     "output_type": "stream",
     "text": [
      "Collecting selenium\n",
      "  Obtaining dependency information for selenium from https://files.pythonhosted.org/packages/04/4d/a6e8afd65b87372e275eb612d564ec68f79195e9b7e27004a3b2cce69686/selenium-4.20.0-py3-none-any.whl.metadata\n",
      "  Downloading selenium-4.20.0-py3-none-any.whl.metadata (6.9 kB)\n",
      "Requirement already satisfied: urllib3[socks]<3,>=1.26 in c:\\users\\larys\\anaconda3\\lib\\site-packages (from selenium) (1.26.16)\n",
      "Collecting trio~=0.17 (from selenium)\n",
      "  Obtaining dependency information for trio~=0.17 from https://files.pythonhosted.org/packages/17/c9/f86f89f14d52f9f2f652ce24cb2f60141a51d087db1563f3fba94ba07346/trio-0.25.0-py3-none-any.whl.metadata\n",
      "  Downloading trio-0.25.0-py3-none-any.whl.metadata (8.7 kB)\n",
      "Collecting trio-websocket~=0.9 (from selenium)\n",
      "  Obtaining dependency information for trio-websocket~=0.9 from https://files.pythonhosted.org/packages/48/be/a9ae5f50cad5b6f85bd2574c2c923730098530096e170c1ce7452394d7aa/trio_websocket-0.11.1-py3-none-any.whl.metadata\n",
      "  Downloading trio_websocket-0.11.1-py3-none-any.whl.metadata (4.7 kB)\n",
      "Requirement already satisfied: certifi>=2021.10.8 in c:\\users\\larys\\anaconda3\\lib\\site-packages (from selenium) (2023.7.22)\n",
      "Collecting typing_extensions>=4.9.0 (from selenium)\n",
      "  Obtaining dependency information for typing_extensions>=4.9.0 from https://files.pythonhosted.org/packages/01/f3/936e209267d6ef7510322191003885de524fc48d1b43269810cd589ceaf5/typing_extensions-4.11.0-py3-none-any.whl.metadata\n",
      "  Downloading typing_extensions-4.11.0-py3-none-any.whl.metadata (3.0 kB)\n",
      "Collecting attrs>=23.2.0 (from trio~=0.17->selenium)\n",
      "  Obtaining dependency information for attrs>=23.2.0 from https://files.pythonhosted.org/packages/e0/44/827b2a91a5816512fcaf3cc4ebc465ccd5d598c45cefa6703fcf4a79018f/attrs-23.2.0-py3-none-any.whl.metadata\n",
      "  Downloading attrs-23.2.0-py3-none-any.whl.metadata (9.5 kB)\n",
      "Requirement already satisfied: sortedcontainers in c:\\users\\larys\\anaconda3\\lib\\site-packages (from trio~=0.17->selenium) (2.4.0)\n",
      "Requirement already satisfied: idna in c:\\users\\larys\\anaconda3\\lib\\site-packages (from trio~=0.17->selenium) (3.4)\n",
      "Collecting outcome (from trio~=0.17->selenium)\n",
      "  Obtaining dependency information for outcome from https://files.pythonhosted.org/packages/55/8b/5ab7257531a5d830fc8000c476e63c935488d74609b50f9384a643ec0a62/outcome-1.3.0.post0-py2.py3-none-any.whl.metadata\n",
      "  Downloading outcome-1.3.0.post0-py2.py3-none-any.whl.metadata (2.6 kB)\n",
      "Collecting sniffio>=1.3.0 (from trio~=0.17->selenium)\n",
      "  Obtaining dependency information for sniffio>=1.3.0 from https://files.pythonhosted.org/packages/e9/44/75a9c9421471a6c4805dbf2356f7c181a29c1879239abab1ea2cc8f38b40/sniffio-1.3.1-py3-none-any.whl.metadata\n",
      "  Downloading sniffio-1.3.1-py3-none-any.whl.metadata (3.9 kB)\n",
      "Requirement already satisfied: cffi>=1.14 in c:\\users\\larys\\anaconda3\\lib\\site-packages (from trio~=0.17->selenium) (1.15.1)\n",
      "Collecting wsproto>=0.14 (from trio-websocket~=0.9->selenium)\n",
      "  Obtaining dependency information for wsproto>=0.14 from https://files.pythonhosted.org/packages/78/58/e860788190eba3bcce367f74d29c4675466ce8dddfba85f7827588416f01/wsproto-1.2.0-py3-none-any.whl.metadata\n",
      "  Downloading wsproto-1.2.0-py3-none-any.whl.metadata (5.6 kB)\n",
      "Requirement already satisfied: PySocks!=1.5.7,<2.0,>=1.5.6 in c:\\users\\larys\\anaconda3\\lib\\site-packages (from urllib3[socks]<3,>=1.26->selenium) (1.7.1)\n",
      "Requirement already satisfied: pycparser in c:\\users\\larys\\anaconda3\\lib\\site-packages (from cffi>=1.14->trio~=0.17->selenium) (2.21)\n",
      "Collecting h11<1,>=0.9.0 (from wsproto>=0.14->trio-websocket~=0.9->selenium)\n",
      "  Obtaining dependency information for h11<1,>=0.9.0 from https://files.pythonhosted.org/packages/95/04/ff642e65ad6b90db43e668d70ffb6736436c7ce41fcc549f4e9472234127/h11-0.14.0-py3-none-any.whl.metadata\n",
      "  Downloading h11-0.14.0-py3-none-any.whl.metadata (8.2 kB)\n",
      "Downloading selenium-4.20.0-py3-none-any.whl (9.5 MB)\n",
      "   ---------------------------------------- 0.0/9.5 MB ? eta -:--:--\n",
      "   ---------------------------------------- 0.1/9.5 MB 2.2 MB/s eta 0:00:05\n",
      "   - -------------------------------------- 0.3/9.5 MB 2.6 MB/s eta 0:00:04\n",
      "   - -------------------------------------- 0.3/9.5 MB 2.3 MB/s eta 0:00:04\n",
      "   - -------------------------------------- 0.5/9.5 MB 2.5 MB/s eta 0:00:04\n",
      "   -- ------------------------------------- 0.6/9.5 MB 2.7 MB/s eta 0:00:04\n",
      "   --- ------------------------------------ 0.7/9.5 MB 2.8 MB/s eta 0:00:04\n",
      "   --- ------------------------------------ 0.8/9.5 MB 2.6 MB/s eta 0:00:04\n",
      "   --- ------------------------------------ 0.9/9.5 MB 2.4 MB/s eta 0:00:04\n",
      "   ---- ----------------------------------- 1.1/9.5 MB 2.6 MB/s eta 0:00:04\n",
      "   ---- ----------------------------------- 1.1/9.5 MB 2.5 MB/s eta 0:00:04\n",
      "   ----- ---------------------------------- 1.3/9.5 MB 2.6 MB/s eta 0:00:04\n",
      "   ------ --------------------------------- 1.5/9.5 MB 2.7 MB/s eta 0:00:04\n",
      "   ------ --------------------------------- 1.6/9.5 MB 2.7 MB/s eta 0:00:03\n",
      "   ------- -------------------------------- 1.8/9.5 MB 2.7 MB/s eta 0:00:03\n",
      "   ------- -------------------------------- 1.9/9.5 MB 2.7 MB/s eta 0:00:03\n",
      "   -------- ------------------------------- 2.0/9.5 MB 2.7 MB/s eta 0:00:03\n",
      "   --------- ------------------------------ 2.2/9.5 MB 2.8 MB/s eta 0:00:03\n",
      "   --------- ------------------------------ 2.3/9.5 MB 2.8 MB/s eta 0:00:03\n",
      "   ---------- ----------------------------- 2.5/9.5 MB 2.9 MB/s eta 0:00:03\n",
      "   ---------- ----------------------------- 2.6/9.5 MB 2.8 MB/s eta 0:00:03\n",
      "   ----------- ---------------------------- 2.8/9.5 MB 2.8 MB/s eta 0:00:03\n",
      "   ----------- ---------------------------- 2.8/9.5 MB 2.8 MB/s eta 0:00:03\n",
      "   ------------ --------------------------- 2.9/9.5 MB 2.8 MB/s eta 0:00:03\n",
      "   ------------- -------------------------- 3.1/9.5 MB 2.8 MB/s eta 0:00:03\n",
      "   ------------- -------------------------- 3.2/9.5 MB 2.8 MB/s eta 0:00:03\n",
      "   ------------- -------------------------- 3.2/9.5 MB 2.7 MB/s eta 0:00:03\n",
      "   -------------- ------------------------- 3.4/9.5 MB 2.7 MB/s eta 0:00:03\n",
      "   --------------- ------------------------ 3.6/9.5 MB 2.8 MB/s eta 0:00:03\n",
      "   --------------- ------------------------ 3.7/9.5 MB 2.8 MB/s eta 0:00:03\n",
      "   ---------------- ----------------------- 3.9/9.5 MB 2.8 MB/s eta 0:00:03\n",
      "   ---------------- ----------------------- 4.0/9.5 MB 2.8 MB/s eta 0:00:02\n",
      "   ----------------- ---------------------- 4.2/9.5 MB 2.8 MB/s eta 0:00:02\n",
      "   ------------------ --------------------- 4.4/9.5 MB 2.8 MB/s eta 0:00:02\n",
      "   ------------------- -------------------- 4.5/9.5 MB 2.9 MB/s eta 0:00:02\n",
      "   ------------------- -------------------- 4.7/9.5 MB 2.9 MB/s eta 0:00:02\n",
      "   -------------------- ------------------- 4.8/9.5 MB 2.9 MB/s eta 0:00:02\n",
      "   --------------------- ------------------ 5.0/9.5 MB 3.0 MB/s eta 0:00:02\n",
      "   --------------------- ------------------ 5.2/9.5 MB 3.0 MB/s eta 0:00:02\n",
      "   ---------------------- ----------------- 5.3/9.5 MB 2.9 MB/s eta 0:00:02\n",
      "   ---------------------- ----------------- 5.4/9.5 MB 2.9 MB/s eta 0:00:02\n",
      "   ----------------------- ---------------- 5.6/9.5 MB 3.0 MB/s eta 0:00:02\n",
      "   ------------------------ --------------- 5.7/9.5 MB 2.9 MB/s eta 0:00:02\n",
      "   ------------------------- -------------- 6.0/9.5 MB 3.0 MB/s eta 0:00:02\n",
      "   ------------------------- -------------- 6.1/9.5 MB 3.0 MB/s eta 0:00:02\n",
      "   -------------------------- ------------- 6.3/9.5 MB 3.0 MB/s eta 0:00:02\n",
      "   --------------------------- ------------ 6.4/9.5 MB 3.0 MB/s eta 0:00:02\n",
      "   --------------------------- ------------ 6.6/9.5 MB 3.0 MB/s eta 0:00:01\n",
      "   ---------------------------- ----------- 6.8/9.5 MB 3.0 MB/s eta 0:00:01\n",
      "   ----------------------------- ---------- 7.0/9.5 MB 3.1 MB/s eta 0:00:01\n",
      "   ------------------------------ --------- 7.2/9.5 MB 3.1 MB/s eta 0:00:01\n",
      "   ------------------------------ --------- 7.4/9.5 MB 3.1 MB/s eta 0:00:01\n",
      "   ------------------------------- -------- 7.5/9.5 MB 3.1 MB/s eta 0:00:01\n",
      "   -------------------------------- ------- 7.7/9.5 MB 3.1 MB/s eta 0:00:01\n",
      "   -------------------------------- ------- 7.8/9.5 MB 3.1 MB/s eta 0:00:01\n",
      "   --------------------------------- ------ 7.9/9.5 MB 3.1 MB/s eta 0:00:01\n",
      "   --------------------------------- ------ 8.0/9.5 MB 3.1 MB/s eta 0:00:01\n",
      "   ---------------------------------- ----- 8.1/9.5 MB 3.1 MB/s eta 0:00:01\n",
      "   ---------------------------------- ----- 8.2/9.5 MB 3.1 MB/s eta 0:00:01\n",
      "   ----------------------------------- ---- 8.4/9.5 MB 3.1 MB/s eta 0:00:01\n",
      "   ----------------------------------- ---- 8.6/9.5 MB 3.1 MB/s eta 0:00:01\n",
      "   ------------------------------------ --- 8.7/9.5 MB 3.1 MB/s eta 0:00:01\n",
      "   ------------------------------------- -- 8.9/9.5 MB 3.1 MB/s eta 0:00:01\n",
      "   -------------------------------------- - 9.1/9.5 MB 3.1 MB/s eta 0:00:01\n",
      "   -------------------------------------- - 9.2/9.5 MB 3.1 MB/s eta 0:00:01\n",
      "   ---------------------------------------  9.3/9.5 MB 3.1 MB/s eta 0:00:01\n",
      "   ---------------------------------------  9.5/9.5 MB 3.1 MB/s eta 0:00:01\n",
      "   ---------------------------------------  9.5/9.5 MB 3.1 MB/s eta 0:00:01\n",
      "   ---------------------------------------- 9.5/9.5 MB 3.0 MB/s eta 0:00:00\n",
      "Downloading trio-0.25.0-py3-none-any.whl (467 kB)\n",
      "   ---------------------------------------- 0.0/467.2 kB ? eta -:--:--\n",
      "   -------------- ------------------------- 174.1/467.2 kB 5.3 MB/s eta 0:00:01\n",
      "   --------------------------- ------------ 317.4/467.2 kB 3.9 MB/s eta 0:00:01\n",
      "   ---------------------------------------- 467.2/467.2 kB 3.7 MB/s eta 0:00:00\n",
      "Downloading trio_websocket-0.11.1-py3-none-any.whl (17 kB)\n",
      "Downloading typing_extensions-4.11.0-py3-none-any.whl (34 kB)\n",
      "Downloading attrs-23.2.0-py3-none-any.whl (60 kB)\n",
      "   ---------------------------------------- 0.0/60.8 kB ? eta -:--:--\n",
      "   ---------------------------------------- 60.8/60.8 kB 3.2 MB/s eta 0:00:00\n",
      "Downloading sniffio-1.3.1-py3-none-any.whl (10 kB)\n",
      "Downloading wsproto-1.2.0-py3-none-any.whl (24 kB)\n",
      "Downloading outcome-1.3.0.post0-py2.py3-none-any.whl (10 kB)\n",
      "Downloading h11-0.14.0-py3-none-any.whl (58 kB)\n",
      "   ---------------------------------------- 0.0/58.3 kB ? eta -:--:--\n",
      "   ---------------------------------------- 58.3/58.3 kB 3.2 MB/s eta 0:00:00\n",
      "Installing collected packages: typing_extensions, sniffio, h11, attrs, wsproto, outcome, trio, trio-websocket, selenium\n",
      "  Attempting uninstall: typing_extensions\n",
      "    Found existing installation: typing_extensions 4.7.1\n",
      "    Uninstalling typing_extensions-4.7.1:\n",
      "      Successfully uninstalled typing_extensions-4.7.1\n",
      "  Attempting uninstall: sniffio\n",
      "    Found existing installation: sniffio 1.2.0\n",
      "    Uninstalling sniffio-1.2.0:\n",
      "      Successfully uninstalled sniffio-1.2.0\n",
      "  Attempting uninstall: attrs\n",
      "    Found existing installation: attrs 22.1.0\n",
      "    Uninstalling attrs-22.1.0:\n",
      "      Successfully uninstalled attrs-22.1.0\n",
      "Successfully installed attrs-23.2.0 h11-0.14.0 outcome-1.3.0.post0 selenium-4.20.0 sniffio-1.3.1 trio-0.25.0 trio-websocket-0.11.1 typing_extensions-4.11.0 wsproto-1.2.0\n"
     ]
    }
   ],
   "source": [
    "!pip install selenium"
   ]
  },
  {
   "cell_type": "code",
   "execution_count": 2,
   "metadata": {
    "id": "OwOAMFDpyKFu"
   },
   "outputs": [],
   "source": [
    "import pandas as pd\n",
    "import requests #requisições no site\n",
    "from urllib.request import urlopen #contornar bloqueios\n",
    "from bs4 import BeautifulSoup # html"
   ]
  },
  {
   "cell_type": "code",
   "execution_count": 3,
   "metadata": {
    "id": "obRLfTf6yefZ"
   },
   "outputs": [],
   "source": [
    "url = 'https://www.infomoney.com.br/ferramentas/comparador-renda-fixa/'"
   ]
  },
  {
   "cell_type": "markdown",
   "metadata": {
    "id": "w5tQXAF-0N4_"
   },
   "source": [
    "## Primeira tentativa"
   ]
  },
  {
   "cell_type": "code",
   "execution_count": 4,
   "metadata": {
    "id": "pH2P_9wpy3US"
   },
   "outputs": [],
   "source": [
    "# retornando o código fonte\n",
    "resposta = requests.get(url) # esponse [200]> = acesso bem sucedido"
   ]
  },
  {
   "cell_type": "code",
   "execution_count": 5,
   "metadata": {
    "id": "ZxX_ClWOzLXk"
   },
   "outputs": [],
   "source": [
    "# retornando o codigo fonte do site\n",
    "html = BeautifulSoup(resposta.text, \"html.parser\") # \"html.parser\" retorno como HTML"
   ]
  },
  {
   "cell_type": "code",
   "execution_count": 6,
   "metadata": {
    "colab": {
     "base_uri": "https://localhost:8080/"
    },
    "id": "K6dzxOx-z8eg",
    "outputId": "9a243585-41e7-421e-faaa-ba771af669a7"
   },
   "outputs": [
    {
     "data": {
      "text/plain": [
       "[]"
      ]
     },
     "execution_count": 6,
     "metadata": {},
     "output_type": "execute_result"
    }
   ],
   "source": [
    "#retornar a tabela do site\n",
    "html.find_all(\"table\")\n",
    "# a tabela não está como HTML no site, ela é elemento javascript"
   ]
  },
  {
   "cell_type": "markdown",
   "metadata": {
    "id": "bLD0o_L80Tvx"
   },
   "source": [
    "## Segunda tentativa"
   ]
  },
  {
   "cell_type": "code",
   "execution_count": 7,
   "metadata": {
    "id": "zur91BBG0MP5"
   },
   "outputs": [],
   "source": [
    "from selenium import webdriver\n",
    "from selenium.webdriver.common.by import By\n",
    "from selenium.webdriver.support.ui import Select"
   ]
  },
  {
   "cell_type": "code",
   "execution_count": 8,
   "metadata": {
    "id": "g2CgNFkU1U3R"
   },
   "outputs": [],
   "source": [
    "driver = webdriver.Chrome()"
   ]
  },
  {
   "cell_type": "code",
   "execution_count": 9,
   "metadata": {
    "colab": {
     "base_uri": "https://localhost:8080/",
     "height": 147
    },
    "id": "2hJzX3mi1oGR",
    "outputId": "d85393b2-0d14-4cb3-a3e2-0ee5e5939e68"
   },
   "outputs": [],
   "source": [
    "driver.get(url)"
   ]
  },
  {
   "cell_type": "markdown",
   "metadata": {
    "id": "UnH4qMeO1rbR"
   },
   "source": [
    "Identificador da tabela"
   ]
  },
  {
   "cell_type": "code",
   "execution_count": 18,
   "metadata": {},
   "outputs": [
    {
     "data": {
      "text/plain": [
       "<selenium.webdriver.remote.webelement.WebElement (session=\"8e709422663069392623fa79d1177840\", element=\"f.B9E64B1002743B86F4A74466D07D5B7A.d.77219B35739AFA5C917E882C1390A52A.e.77\")>"
      ]
     },
     "execution_count": 18,
     "metadata": {},
     "output_type": "execute_result"
    }
   ],
   "source": [
    "driver.find_element(By.XPATH, '//*[@id=\"container_CDB\"]')"
   ]
  },
  {
   "cell_type": "code",
   "execution_count": 16,
   "metadata": {
    "colab": {
     "base_uri": "https://localhost:8080/",
     "height": 165
    },
    "id": "I1lIr2mi3HAh",
    "outputId": "1ce973db-840a-499a-f022-e676707dc7fc"
   },
   "outputs": [
    {
     "data": {
      "text/plain": [
       "'<div class=\"row mt-5\" id=\"container_CDB\">\\n                        <div class=\"col-12\">\\n                            <h2>CDB</h2>\\n                            <p>CDB é um Certificado de Depósito Bancário. Na prática, quem investe em CDB empresta dinheiro a um banco em troca de uma determinada taxa de juros. <a href=\"https://www.infomoney.com.br/cdb\">Saiba mais aqui</a></p>\\n                            <button id=\"export_comparador_cdb\" class=\"export_data_table\">\\n                                <i class=\"material-icons\">arrow_downward</i>\\n                                <span>Baixar arquivo</span>\\n                            </button>\\n                            <div id=\"container_table_cdb\" class=\"container-default-table\"><table class=\"default-table dataTable no-footer\" id=\"DataTables_Table_0\" role=\"grid\" style=\"width: 0px;\"><thead><tr role=\"row\"><th class=\"sorting_asc\" tabindex=\"0\" aria-controls=\"DataTables_Table_0\" rowspan=\"1\" colspan=\"1\" aria-label=\"Banco: activate to sort column descending\" style=\"width: 0px;\" aria-sort=\"ascending\">Banco</th><th class=\"sorting\" tabindex=\"0\" aria-controls=\"DataTables_Table_0\" rowspan=\"1\" colspan=\"1\" aria-label=\"Liquidez: activate to sort column ascending\" style=\"width: 0px;\">Liquidez</th><th class=\"sorting\" tabindex=\"0\" aria-controls=\"DataTables_Table_0\" rowspan=\"1\" colspan=\"1\" aria-label=\"Vencimento : activate to sort column ascending\" style=\"width: 0px;\">Vencimento </th><th class=\"sorting\" tabindex=\"0\" aria-controls=\"DataTables_Table_0\" rowspan=\"1\" colspan=\"1\" aria-label=\"Rentabilidade: activate to sort column ascending\" style=\"width: 0px;\">Rentabilidade</th><th class=\"sorting\" tabindex=\"0\" aria-controls=\"DataTables_Table_0\" rowspan=\"1\" colspan=\"1\" aria-label=\"Rating: activate to sort column ascending\" style=\"width: 0px;\">Rating</th><th class=\"sorting\" tabindex=\"0\" aria-controls=\"DataTables_Table_0\" rowspan=\"1\" colspan=\"1\" aria-label=\"Agência de Rating: activate to sort column ascending\" style=\"width: 0px;\">Agência de Rating</th><th class=\"sorting\" tabindex=\"0\" aria-controls=\"DataTables_Table_0\" rowspan=\"1\" colspan=\"1\" aria-label=\"Aplicação Mínima: activate to sort column ascending\" style=\"width: 0px;\">Aplicação Mínima</th><th class=\"sorting\" tabindex=\"0\" aria-controls=\"DataTables_Table_0\" rowspan=\"1\" colspan=\"1\" aria-label=\"Rende mais que a poupança?: activate to sort column ascending\" style=\"width: 0px;\">Rende mais que a poupança?</th><th class=\"sorting_disabled\" rowspan=\"1\" colspan=\"1\" aria-label=\"\" style=\"width: 0px;\"></th></tr></thead><tbody><tr role=\"row\" class=\"odd\"><td class=\"sorting_1\">CDB AL5 BANK - AGO/2024</td><td>730 dias</td><td>07/08/2024</td><td>114% CDI</td><td>-</td><td></td><td>1000</td><td class=\"positive\">114.37%</td><td><a href=\"https://lp.rico.com.vc/lp/cadastre-se?utm_source=infomoney&amp;utm_medium=botao-investir&amp;utm_campaign=comparador-renda-fixa\" target=\"_new\">Investir</a></td></tr><tr role=\"row\" class=\"even\"><td class=\"sorting_1\">CDB AL5 BANK - AGO/2025</td><td>1095 dias</td><td>07/08/2025</td><td>117% CDI</td><td>-</td><td></td><td>1000</td><td class=\"positive\">120.01%</td><td><a href=\"https://lp.rico.com.vc/lp/cadastre-se?utm_source=infomoney&amp;utm_medium=botao-investir&amp;utm_campaign=comparador-renda-fixa\" target=\"_new\">Investir</a></td></tr><tr role=\"row\" class=\"odd\"><td class=\"sorting_1\">CDB BANCO RCI BRASIL S.A. - AGO/2024</td><td>730 dias</td><td>07/08/2024</td><td>106.5% CDI</td><td>AA+.br</td><td>Moody´s</td><td>1000</td><td class=\"positive\">100.27%</td><td><a href=\"https://lp.rico.com.vc/lp/cadastre-se?utm_source=infomoney&amp;utm_medium=botao-investir&amp;utm_campaign=comparador-renda-fixa\" target=\"_new\">Investir</a></td></tr><tr role=\"row\" class=\"even\"><td class=\"sorting_1\">CDB LUSO BRASILEIRO - AGO/2024</td><td>730 dias</td><td>07/08/2024</td><td>117% CDI</td><td>BB</td><td>Fitch</td><td>1000</td><td class=\"positive\">120.01%</td><td><a href=\"https://lp.rico.com.vc/lp/cadastre-se?utm_source=infomoney&amp;utm_medium=botao-investir&amp;utm_campaign=comparador-renda-fixa\" target=\"_new\">Investir</a></td></tr><tr role=\"row\" class=\"odd\"><td class=\"sorting_1\">CDB LUSO BRASILEIRO - AGO/2025</td><td>1095 dias</td><td>07/08/2025</td><td>119% CDI</td><td>BB</td><td>Fitch</td><td>1000</td><td class=\"positive\">123.78%</td><td><a href=\"https://lp.rico.com.vc/lp/cadastre-se?utm_source=infomoney&amp;utm_medium=botao-investir&amp;utm_campaign=comparador-renda-fixa\" target=\"_new\">Investir</a></td></tr><tr role=\"row\" class=\"even\"><td class=\"sorting_1\">CDB MASTER - JUROS MENSAL - AGO/2030</td><td>2915 dias</td><td>01/08/2030</td><td>15.2%</td><td>BBB-</td><td>Fitch</td><td>1002,81</td><td class=\"positive\">-</td><td><a href=\"https://lp.rico.com.vc/lp/cadastre-se?utm_source=infomoney&amp;utm_medium=botao-investir&amp;utm_campaign=comparador-renda-fixa\" target=\"_new\">Investir</a></td></tr><tr role=\"row\" class=\"odd\"><td class=\"sorting_1\">CDB MERCADO LIVRE CFI - AGO/2024</td><td>1 dias</td><td>07/08/2024</td><td>102.5% CDI</td><td>AAA</td><td>Fitch</td><td>1000</td><td class=\"positive\">92.75%</td><td><a href=\"https://lp.rico.com.vc/lp/cadastre-se?utm_source=infomoney&amp;utm_medium=botao-investir&amp;utm_campaign=comparador-renda-fixa\" target=\"_new\">Investir</a></td></tr><tr role=\"row\" class=\"even\"><td class=\"sorting_1\">CDB MIDWAY - RIACHUELO S.A. - AGO/2024</td><td>730 dias</td><td>07/08/2024</td><td>110% CDI</td><td>-</td><td></td><td>1000</td><td class=\"positive\">106.85%</td><td><a href=\"https://lp.rico.com.vc/lp/cadastre-se?utm_source=infomoney&amp;utm_medium=botao-investir&amp;utm_campaign=comparador-renda-fixa\" target=\"_new\">Investir</a></td></tr><tr role=\"row\" class=\"odd\"><td class=\"sorting_1\">CDB MIDWAY - RIACHUELO S.A. - AGO/2025</td><td>1095 dias</td><td>07/08/2025</td><td>114% CDI</td><td>-</td><td></td><td>1000</td><td class=\"positive\">114.37%</td><td><a href=\"https://lp.rico.com.vc/lp/cadastre-se?utm_source=infomoney&amp;utm_medium=botao-investir&amp;utm_campaign=comparador-renda-fixa\" target=\"_new\">Investir</a></td></tr><tr role=\"row\" class=\"even\"><td class=\"sorting_1\">CDB MIDWAY - RIACHUELO S.A. - AGO/2026</td><td>1460 dias</td><td>07/08/2026</td><td>117% CDI</td><td>-</td><td></td><td>1000</td><td class=\"positive\">120.01%</td><td><a href=\"https://lp.rico.com.vc/lp/cadastre-se?utm_source=infomoney&amp;utm_medium=botao-investir&amp;utm_campaign=comparador-renda-fixa\" target=\"_new\">Investir</a></td></tr><tr role=\"row\" class=\"odd\"><td class=\"sorting_1\">CDB MIDWAY - RIACHUELO S.A. - AGO/2027</td><td>1825 dias</td><td>07/08/2027</td><td>118% CDI</td><td>-</td><td></td><td>1000</td><td class=\"positive\">121.9%</td><td><a href=\"https://lp.rico.com.vc/lp/cadastre-se?utm_source=infomoney&amp;utm_medium=botao-investir&amp;utm_campaign=comparador-renda-fixa\" target=\"_new\">Investir</a></td></tr><tr role=\"row\" class=\"even\"><td class=\"sorting_1\">CDB PERNAMBUCANAS FINANCIADOR - AGO/2024</td><td>730 dias</td><td>07/08/2024</td><td>117.25% CDI</td><td>-</td><td></td><td>1000</td><td class=\"positive\">120.49%</td><td><a href=\"https://lp.rico.com.vc/lp/cadastre-se?utm_source=infomoney&amp;utm_medium=botao-investir&amp;utm_campaign=comparador-renda-fixa\" target=\"_new\">Investir</a></td></tr><tr role=\"row\" class=\"odd\"><td class=\"sorting_1\">CDB PERNAMBUCANAS FINANCIADOR - AGO/2025</td><td>1095 dias</td><td>07/08/2025</td><td>122.25% CDI</td><td>-</td><td></td><td>1000</td><td class=\"positive\">129.89%</td><td><a href=\"https://lp.rico.com.vc/lp/cadastre-se?utm_source=infomoney&amp;utm_medium=botao-investir&amp;utm_campaign=comparador-renda-fixa\" target=\"_new\">Investir</a></td></tr><tr role=\"row\" class=\"even\"><td class=\"sorting_1\">CDB PERNAMBUCANAS FINANCIADOR - AGO/2026</td><td>1460 dias</td><td>07/08/2026</td><td>123.25% CDI</td><td>-</td><td></td><td>1000</td><td class=\"positive\">131.77%</td><td><a href=\"https://lp.rico.com.vc/lp/cadastre-se?utm_source=infomoney&amp;utm_medium=botao-investir&amp;utm_campaign=comparador-renda-fixa\" target=\"_new\">Investir</a></td></tr><tr role=\"row\" class=\"odd\"><td class=\"sorting_1\">CDB REALIZE CREDITO, FINANCIA - AGO/2024</td><td>730 dias</td><td>07/08/2024</td><td>117.25% CDI</td><td>-</td><td></td><td>1000</td><td class=\"positive\">120.49%</td><td><a href=\"https://lp.rico.com.vc/lp/cadastre-se?utm_source=infomoney&amp;utm_medium=botao-investir&amp;utm_campaign=comparador-renda-fixa\" target=\"_new\">Investir</a></td></tr></tbody></table></div>\\n                        </div>\\n                    </div>'"
      ]
     },
     "execution_count": 16,
     "metadata": {},
     "output_type": "execute_result"
    }
   ],
   "source": [
    "tabelas_cdbs = driver.find_element(By.XPATH, '//*[@id=\"container_CDB\"]').get_attribute(\"outerHTML\") # extrai o entorno\n",
    "tabelas_cdbs"
   ]
  },
  {
   "cell_type": "markdown",
   "metadata": {
    "id": "KzvgZYyn4igd"
   },
   "source": [
    "Extraindo a tabela de CDBs"
   ]
  },
  {
   "cell_type": "code",
   "execution_count": 17,
   "metadata": {
    "id": "6zq4v8_n4ls9"
   },
   "outputs": [
    {
     "data": {
      "text/html": [
       "<div>\n",
       "<style scoped>\n",
       "    .dataframe tbody tr th:only-of-type {\n",
       "        vertical-align: middle;\n",
       "    }\n",
       "\n",
       "    .dataframe tbody tr th {\n",
       "        vertical-align: top;\n",
       "    }\n",
       "\n",
       "    .dataframe thead th {\n",
       "        text-align: right;\n",
       "    }\n",
       "</style>\n",
       "<table border=\"1\" class=\"dataframe\">\n",
       "  <thead>\n",
       "    <tr style=\"text-align: right;\">\n",
       "      <th></th>\n",
       "      <th>Banco</th>\n",
       "      <th>Liquidez</th>\n",
       "      <th>Vencimento</th>\n",
       "      <th>Rentabilidade</th>\n",
       "      <th>Rating</th>\n",
       "      <th>Agência de Rating</th>\n",
       "      <th>Aplicação Mínima</th>\n",
       "      <th>Rende mais que a poupança?</th>\n",
       "      <th>Unnamed: 8</th>\n",
       "    </tr>\n",
       "  </thead>\n",
       "  <tbody>\n",
       "    <tr>\n",
       "      <th>0</th>\n",
       "      <td>CDB AL5 BANK - AGO/2024</td>\n",
       "      <td>730 dias</td>\n",
       "      <td>07/08/2024</td>\n",
       "      <td>114% CDI</td>\n",
       "      <td>-</td>\n",
       "      <td>NaN</td>\n",
       "      <td>1000.00</td>\n",
       "      <td>114.37%</td>\n",
       "      <td>Investir</td>\n",
       "    </tr>\n",
       "    <tr>\n",
       "      <th>1</th>\n",
       "      <td>CDB AL5 BANK - AGO/2025</td>\n",
       "      <td>1095 dias</td>\n",
       "      <td>07/08/2025</td>\n",
       "      <td>117% CDI</td>\n",
       "      <td>-</td>\n",
       "      <td>NaN</td>\n",
       "      <td>1000.00</td>\n",
       "      <td>120.01%</td>\n",
       "      <td>Investir</td>\n",
       "    </tr>\n",
       "    <tr>\n",
       "      <th>2</th>\n",
       "      <td>CDB BANCO RCI BRASIL S.A. - AGO/2024</td>\n",
       "      <td>730 dias</td>\n",
       "      <td>07/08/2024</td>\n",
       "      <td>106.5% CDI</td>\n",
       "      <td>AA+.br</td>\n",
       "      <td>Moody´s</td>\n",
       "      <td>1000.00</td>\n",
       "      <td>100.27%</td>\n",
       "      <td>Investir</td>\n",
       "    </tr>\n",
       "    <tr>\n",
       "      <th>3</th>\n",
       "      <td>CDB LUSO BRASILEIRO - AGO/2024</td>\n",
       "      <td>730 dias</td>\n",
       "      <td>07/08/2024</td>\n",
       "      <td>117% CDI</td>\n",
       "      <td>BB</td>\n",
       "      <td>Fitch</td>\n",
       "      <td>1000.00</td>\n",
       "      <td>120.01%</td>\n",
       "      <td>Investir</td>\n",
       "    </tr>\n",
       "    <tr>\n",
       "      <th>4</th>\n",
       "      <td>CDB LUSO BRASILEIRO - AGO/2025</td>\n",
       "      <td>1095 dias</td>\n",
       "      <td>07/08/2025</td>\n",
       "      <td>119% CDI</td>\n",
       "      <td>BB</td>\n",
       "      <td>Fitch</td>\n",
       "      <td>1000.00</td>\n",
       "      <td>123.78%</td>\n",
       "      <td>Investir</td>\n",
       "    </tr>\n",
       "    <tr>\n",
       "      <th>5</th>\n",
       "      <td>CDB MASTER - JUROS MENSAL - AGO/2030</td>\n",
       "      <td>2915 dias</td>\n",
       "      <td>01/08/2030</td>\n",
       "      <td>15.2%</td>\n",
       "      <td>BBB-</td>\n",
       "      <td>Fitch</td>\n",
       "      <td>1002.81</td>\n",
       "      <td>-</td>\n",
       "      <td>Investir</td>\n",
       "    </tr>\n",
       "    <tr>\n",
       "      <th>6</th>\n",
       "      <td>CDB MERCADO LIVRE CFI - AGO/2024</td>\n",
       "      <td>1 dias</td>\n",
       "      <td>07/08/2024</td>\n",
       "      <td>102.5% CDI</td>\n",
       "      <td>AAA</td>\n",
       "      <td>Fitch</td>\n",
       "      <td>1000.00</td>\n",
       "      <td>92.75%</td>\n",
       "      <td>Investir</td>\n",
       "    </tr>\n",
       "    <tr>\n",
       "      <th>7</th>\n",
       "      <td>CDB MIDWAY - RIACHUELO S.A. - AGO/2024</td>\n",
       "      <td>730 dias</td>\n",
       "      <td>07/08/2024</td>\n",
       "      <td>110% CDI</td>\n",
       "      <td>-</td>\n",
       "      <td>NaN</td>\n",
       "      <td>1000.00</td>\n",
       "      <td>106.85%</td>\n",
       "      <td>Investir</td>\n",
       "    </tr>\n",
       "    <tr>\n",
       "      <th>8</th>\n",
       "      <td>CDB MIDWAY - RIACHUELO S.A. - AGO/2025</td>\n",
       "      <td>1095 dias</td>\n",
       "      <td>07/08/2025</td>\n",
       "      <td>114% CDI</td>\n",
       "      <td>-</td>\n",
       "      <td>NaN</td>\n",
       "      <td>1000.00</td>\n",
       "      <td>114.37%</td>\n",
       "      <td>Investir</td>\n",
       "    </tr>\n",
       "    <tr>\n",
       "      <th>9</th>\n",
       "      <td>CDB MIDWAY - RIACHUELO S.A. - AGO/2026</td>\n",
       "      <td>1460 dias</td>\n",
       "      <td>07/08/2026</td>\n",
       "      <td>117% CDI</td>\n",
       "      <td>-</td>\n",
       "      <td>NaN</td>\n",
       "      <td>1000.00</td>\n",
       "      <td>120.01%</td>\n",
       "      <td>Investir</td>\n",
       "    </tr>\n",
       "    <tr>\n",
       "      <th>10</th>\n",
       "      <td>CDB MIDWAY - RIACHUELO S.A. - AGO/2027</td>\n",
       "      <td>1825 dias</td>\n",
       "      <td>07/08/2027</td>\n",
       "      <td>118% CDI</td>\n",
       "      <td>-</td>\n",
       "      <td>NaN</td>\n",
       "      <td>1000.00</td>\n",
       "      <td>121.9%</td>\n",
       "      <td>Investir</td>\n",
       "    </tr>\n",
       "    <tr>\n",
       "      <th>11</th>\n",
       "      <td>CDB PERNAMBUCANAS FINANCIADOR - AGO/2024</td>\n",
       "      <td>730 dias</td>\n",
       "      <td>07/08/2024</td>\n",
       "      <td>117.25% CDI</td>\n",
       "      <td>-</td>\n",
       "      <td>NaN</td>\n",
       "      <td>1000.00</td>\n",
       "      <td>120.49%</td>\n",
       "      <td>Investir</td>\n",
       "    </tr>\n",
       "    <tr>\n",
       "      <th>12</th>\n",
       "      <td>CDB PERNAMBUCANAS FINANCIADOR - AGO/2025</td>\n",
       "      <td>1095 dias</td>\n",
       "      <td>07/08/2025</td>\n",
       "      <td>122.25% CDI</td>\n",
       "      <td>-</td>\n",
       "      <td>NaN</td>\n",
       "      <td>1000.00</td>\n",
       "      <td>129.89%</td>\n",
       "      <td>Investir</td>\n",
       "    </tr>\n",
       "    <tr>\n",
       "      <th>13</th>\n",
       "      <td>CDB PERNAMBUCANAS FINANCIADOR - AGO/2026</td>\n",
       "      <td>1460 dias</td>\n",
       "      <td>07/08/2026</td>\n",
       "      <td>123.25% CDI</td>\n",
       "      <td>-</td>\n",
       "      <td>NaN</td>\n",
       "      <td>1000.00</td>\n",
       "      <td>131.77%</td>\n",
       "      <td>Investir</td>\n",
       "    </tr>\n",
       "    <tr>\n",
       "      <th>14</th>\n",
       "      <td>CDB REALIZE CREDITO, FINANCIA - AGO/2024</td>\n",
       "      <td>730 dias</td>\n",
       "      <td>07/08/2024</td>\n",
       "      <td>117.25% CDI</td>\n",
       "      <td>-</td>\n",
       "      <td>NaN</td>\n",
       "      <td>1000.00</td>\n",
       "      <td>120.49%</td>\n",
       "      <td>Investir</td>\n",
       "    </tr>\n",
       "  </tbody>\n",
       "</table>\n",
       "</div>"
      ],
      "text/plain": [
       "                                       Banco   Liquidez  Vencimento  \\\n",
       "0                    CDB AL5 BANK - AGO/2024   730 dias  07/08/2024   \n",
       "1                    CDB AL5 BANK - AGO/2025  1095 dias  07/08/2025   \n",
       "2       CDB BANCO RCI BRASIL S.A. - AGO/2024   730 dias  07/08/2024   \n",
       "3             CDB LUSO BRASILEIRO - AGO/2024   730 dias  07/08/2024   \n",
       "4             CDB LUSO BRASILEIRO - AGO/2025  1095 dias  07/08/2025   \n",
       "5       CDB MASTER - JUROS MENSAL - AGO/2030  2915 dias  01/08/2030   \n",
       "6           CDB MERCADO LIVRE CFI - AGO/2024     1 dias  07/08/2024   \n",
       "7     CDB MIDWAY - RIACHUELO S.A. - AGO/2024   730 dias  07/08/2024   \n",
       "8     CDB MIDWAY - RIACHUELO S.A. - AGO/2025  1095 dias  07/08/2025   \n",
       "9     CDB MIDWAY - RIACHUELO S.A. - AGO/2026  1460 dias  07/08/2026   \n",
       "10    CDB MIDWAY - RIACHUELO S.A. - AGO/2027  1825 dias  07/08/2027   \n",
       "11  CDB PERNAMBUCANAS FINANCIADOR - AGO/2024   730 dias  07/08/2024   \n",
       "12  CDB PERNAMBUCANAS FINANCIADOR - AGO/2025  1095 dias  07/08/2025   \n",
       "13  CDB PERNAMBUCANAS FINANCIADOR - AGO/2026  1460 dias  07/08/2026   \n",
       "14  CDB REALIZE CREDITO, FINANCIA - AGO/2024   730 dias  07/08/2024   \n",
       "\n",
       "   Rentabilidade  Rating Agência de Rating  Aplicação Mínima  \\\n",
       "0       114% CDI       -               NaN           1000.00   \n",
       "1       117% CDI       -               NaN           1000.00   \n",
       "2     106.5% CDI  AA+.br           Moody´s           1000.00   \n",
       "3       117% CDI      BB             Fitch           1000.00   \n",
       "4       119% CDI      BB             Fitch           1000.00   \n",
       "5          15.2%    BBB-             Fitch           1002.81   \n",
       "6     102.5% CDI     AAA             Fitch           1000.00   \n",
       "7       110% CDI       -               NaN           1000.00   \n",
       "8       114% CDI       -               NaN           1000.00   \n",
       "9       117% CDI       -               NaN           1000.00   \n",
       "10      118% CDI       -               NaN           1000.00   \n",
       "11   117.25% CDI       -               NaN           1000.00   \n",
       "12   122.25% CDI       -               NaN           1000.00   \n",
       "13   123.25% CDI       -               NaN           1000.00   \n",
       "14   117.25% CDI       -               NaN           1000.00   \n",
       "\n",
       "   Rende mais que a poupança? Unnamed: 8  \n",
       "0                     114.37%   Investir  \n",
       "1                     120.01%   Investir  \n",
       "2                     100.27%   Investir  \n",
       "3                     120.01%   Investir  \n",
       "4                     123.78%   Investir  \n",
       "5                           -   Investir  \n",
       "6                      92.75%   Investir  \n",
       "7                     106.85%   Investir  \n",
       "8                     114.37%   Investir  \n",
       "9                     120.01%   Investir  \n",
       "10                     121.9%   Investir  \n",
       "11                    120.49%   Investir  \n",
       "12                    129.89%   Investir  \n",
       "13                    131.77%   Investir  \n",
       "14                    120.49%   Investir  "
      ]
     },
     "execution_count": 17,
     "metadata": {},
     "output_type": "execute_result"
    }
   ],
   "source": [
    "pd.read_html(tabelas_cdbs, decimal = ',', thousands= '.')[0] # indexar para retornar o dataframe de dentro da lista"
   ]
  },
  {
   "cell_type": "markdown",
   "metadata": {},
   "source": [
    "Extraindo Tabelas LCAs"
   ]
  },
  {
   "cell_type": "code",
   "execution_count": 24,
   "metadata": {},
   "outputs": [
    {
     "data": {
      "text/plain": [
       "'<div class=\"row mt-5\" id=\"container_LCA\">\\n                        <div class=\"col-12\">\\n                            <h2>LCA</h2>\\n                            <p>LCA é uma Letra de Crédito do Agronegócio. Na prática, quem investe em LCA empresta dinheiro a um banco em troca de uma determinada taxa de juros. Há isenção de Imposto de Renda sobre os rendimentos obtidos com aplicações em LCA. <a href=\"https://www.infomoney.com.br/lci-lca\">Saiba mais aqui</a></p>\\n                            <button id=\"export_comparador_lca\" class=\"export_data_table\">\\n                                <i class=\"material-icons\">arrow_downward</i>\\n                                <span>Baixar arquivo</span>\\n                            </button>\\n                            <div id=\"container_table_lca\" class=\"container-default-table\"><table class=\"default-table dataTable no-footer\" id=\"DataTables_Table_1\" role=\"grid\" style=\"width: 0px;\"><thead><tr role=\"row\"><th class=\"sorting\" tabindex=\"0\" aria-controls=\"DataTables_Table_1\" rowspan=\"1\" colspan=\"1\" aria-label=\"Banco: activate to sort column ascending\" style=\"width: 0px;\">Banco</th><th class=\"sorting\" tabindex=\"0\" aria-controls=\"DataTables_Table_1\" rowspan=\"1\" colspan=\"1\" aria-label=\"Liquidez: activate to sort column ascending\" style=\"width: 0px;\">Liquidez</th><th class=\"sorting\" tabindex=\"0\" aria-controls=\"DataTables_Table_1\" rowspan=\"1\" colspan=\"1\" aria-label=\"Vencimento : activate to sort column ascending\" style=\"width: 0px;\">Vencimento </th><th class=\"sorting\" tabindex=\"0\" aria-controls=\"DataTables_Table_1\" rowspan=\"1\" colspan=\"1\" aria-label=\"Rentabilidade: activate to sort column ascending\" style=\"width: 0px;\">Rentabilidade</th><th class=\"sorting\" tabindex=\"0\" aria-controls=\"DataTables_Table_1\" rowspan=\"1\" colspan=\"1\" aria-label=\"Rating: activate to sort column ascending\" style=\"width: 0px;\">Rating</th><th class=\"sorting\" tabindex=\"0\" aria-controls=\"DataTables_Table_1\" rowspan=\"1\" colspan=\"1\" aria-label=\"Agência de Rating: activate to sort column ascending\" style=\"width: 0px;\">Agência de Rating</th><th class=\"sorting\" tabindex=\"0\" aria-controls=\"DataTables_Table_1\" rowspan=\"1\" colspan=\"1\" aria-label=\"Aplicação Mínima: activate to sort column ascending\" style=\"width: 0px;\">Aplicação Mínima</th><th class=\"sorting_desc\" tabindex=\"0\" aria-controls=\"DataTables_Table_1\" rowspan=\"1\" colspan=\"1\" aria-sort=\"descending\" aria-label=\"Rende mais que a poupança?: activate to sort column ascending\" style=\"width: 0px;\">Rende mais que a poupança?</th><th class=\"sorting_disabled\" rowspan=\"1\" colspan=\"1\" aria-label=\"\" style=\"width: 0px;\"></th></tr></thead><tbody><tr role=\"row\" class=\"odd\"><td>LCA SICREDI - AGO/2025</td><td>1095 dias</td><td>07/08/2025</td><td>99% CDI</td><td>brAAA</td><td>S&amp;P</td><td>1000</td><td class=\"positive sorting_1\">86.17%</td><td><a href=\"https://lp.rico.com.vc/lp/cadastre-se?utm_source=infomoney&amp;utm_medium=botao-investir&amp;utm_campaign=comparador-renda-fixa\" target=\"_new\">Investir</a></td></tr><tr role=\"row\" class=\"even\"><td>LCA SICREDI - AGO/2024</td><td>730 dias</td><td>07/08/2024</td><td>98% CDI</td><td>brAAA</td><td>S&amp;P</td><td>1000</td><td class=\"positive sorting_1\">84.29%</td><td><a href=\"https://lp.rico.com.vc/lp/cadastre-se?utm_source=infomoney&amp;utm_medium=botao-investir&amp;utm_campaign=comparador-renda-fixa\" target=\"_new\">Investir</a></td></tr><tr role=\"row\" class=\"odd\"><td>LCA BANCO COOPERATIVO SICOOB - AGO/2024</td><td>90 dias</td><td>07/08/2024</td><td>87% CDI</td><td>AA</td><td>Fitch</td><td>1000</td><td class=\"positive sorting_1\">63.6%</td><td><a href=\"https://lp.rico.com.vc/lp/cadastre-se?utm_source=infomoney&amp;utm_medium=botao-investir&amp;utm_campaign=comparador-renda-fixa\" target=\"_new\">Investir</a></td></tr><tr role=\"row\" class=\"even\"><td>LCA SICREDI - NOV/2029</td><td>2654 dias</td><td>13/11/2029</td><td>12.85%</td><td>brAAA</td><td>S&amp;P</td><td>997,4</td><td class=\"positive sorting_1\">-</td><td><a href=\"https://lp.rico.com.vc/lp/cadastre-se?utm_source=infomoney&amp;utm_medium=botao-investir&amp;utm_campaign=comparador-renda-fixa\" target=\"_new\">Investir</a></td></tr><tr role=\"row\" class=\"odd\"><td>LCA SICREDI - OUT/2027</td><td>1904 dias</td><td>25/10/2027</td><td>12.65%</td><td>brAAA</td><td>S&amp;P</td><td>999,63</td><td class=\"positive sorting_1\">-</td><td><a href=\"https://lp.rico.com.vc/lp/cadastre-se?utm_source=infomoney&amp;utm_medium=botao-investir&amp;utm_campaign=comparador-renda-fixa\" target=\"_new\">Investir</a></td></tr></tbody></table></div>\\n                        </div>\\n                    </div>'"
      ]
     },
     "execution_count": 24,
     "metadata": {},
     "output_type": "execute_result"
    }
   ],
   "source": [
    "tabelas_lcas = driver.find_element(By.XPATH, '//*[@id=\"container_LCA\"]').get_attribute(\"outerHTML\") # extrai o entorno\n",
    "tabelas_lcas"
   ]
  },
  {
   "cell_type": "code",
   "execution_count": 25,
   "metadata": {},
   "outputs": [
    {
     "data": {
      "text/html": [
       "<div>\n",
       "<style scoped>\n",
       "    .dataframe tbody tr th:only-of-type {\n",
       "        vertical-align: middle;\n",
       "    }\n",
       "\n",
       "    .dataframe tbody tr th {\n",
       "        vertical-align: top;\n",
       "    }\n",
       "\n",
       "    .dataframe thead th {\n",
       "        text-align: right;\n",
       "    }\n",
       "</style>\n",
       "<table border=\"1\" class=\"dataframe\">\n",
       "  <thead>\n",
       "    <tr style=\"text-align: right;\">\n",
       "      <th></th>\n",
       "      <th>Banco</th>\n",
       "      <th>Liquidez</th>\n",
       "      <th>Vencimento</th>\n",
       "      <th>Rentabilidade</th>\n",
       "      <th>Rating</th>\n",
       "      <th>Agência de Rating</th>\n",
       "      <th>Aplicação Mínima</th>\n",
       "      <th>Rende mais que a poupança?</th>\n",
       "      <th>Unnamed: 8</th>\n",
       "    </tr>\n",
       "  </thead>\n",
       "  <tbody>\n",
       "    <tr>\n",
       "      <th>0</th>\n",
       "      <td>LCA SICREDI - AGO/2025</td>\n",
       "      <td>1095 dias</td>\n",
       "      <td>07/08/2025</td>\n",
       "      <td>99% CDI</td>\n",
       "      <td>brAAA</td>\n",
       "      <td>S&amp;P</td>\n",
       "      <td>1000.00</td>\n",
       "      <td>86.17%</td>\n",
       "      <td>Investir</td>\n",
       "    </tr>\n",
       "    <tr>\n",
       "      <th>1</th>\n",
       "      <td>LCA SICREDI - AGO/2024</td>\n",
       "      <td>730 dias</td>\n",
       "      <td>07/08/2024</td>\n",
       "      <td>98% CDI</td>\n",
       "      <td>brAAA</td>\n",
       "      <td>S&amp;P</td>\n",
       "      <td>1000.00</td>\n",
       "      <td>84.29%</td>\n",
       "      <td>Investir</td>\n",
       "    </tr>\n",
       "    <tr>\n",
       "      <th>2</th>\n",
       "      <td>LCA BANCO COOPERATIVO SICOOB - AGO/2024</td>\n",
       "      <td>90 dias</td>\n",
       "      <td>07/08/2024</td>\n",
       "      <td>87% CDI</td>\n",
       "      <td>AA</td>\n",
       "      <td>Fitch</td>\n",
       "      <td>1000.00</td>\n",
       "      <td>63.6%</td>\n",
       "      <td>Investir</td>\n",
       "    </tr>\n",
       "    <tr>\n",
       "      <th>3</th>\n",
       "      <td>LCA SICREDI - NOV/2029</td>\n",
       "      <td>2654 dias</td>\n",
       "      <td>13/11/2029</td>\n",
       "      <td>12.85%</td>\n",
       "      <td>brAAA</td>\n",
       "      <td>S&amp;P</td>\n",
       "      <td>997.40</td>\n",
       "      <td>-</td>\n",
       "      <td>Investir</td>\n",
       "    </tr>\n",
       "    <tr>\n",
       "      <th>4</th>\n",
       "      <td>LCA SICREDI - OUT/2027</td>\n",
       "      <td>1904 dias</td>\n",
       "      <td>25/10/2027</td>\n",
       "      <td>12.65%</td>\n",
       "      <td>brAAA</td>\n",
       "      <td>S&amp;P</td>\n",
       "      <td>999.63</td>\n",
       "      <td>-</td>\n",
       "      <td>Investir</td>\n",
       "    </tr>\n",
       "  </tbody>\n",
       "</table>\n",
       "</div>"
      ],
      "text/plain": [
       "                                     Banco   Liquidez  Vencimento  \\\n",
       "0                   LCA SICREDI - AGO/2025  1095 dias  07/08/2025   \n",
       "1                   LCA SICREDI - AGO/2024   730 dias  07/08/2024   \n",
       "2  LCA BANCO COOPERATIVO SICOOB - AGO/2024    90 dias  07/08/2024   \n",
       "3                   LCA SICREDI - NOV/2029  2654 dias  13/11/2029   \n",
       "4                   LCA SICREDI - OUT/2027  1904 dias  25/10/2027   \n",
       "\n",
       "  Rentabilidade Rating Agência de Rating  Aplicação Mínima  \\\n",
       "0       99% CDI  brAAA               S&P           1000.00   \n",
       "1       98% CDI  brAAA               S&P           1000.00   \n",
       "2       87% CDI     AA             Fitch           1000.00   \n",
       "3        12.85%  brAAA               S&P            997.40   \n",
       "4        12.65%  brAAA               S&P            999.63   \n",
       "\n",
       "  Rende mais que a poupança? Unnamed: 8  \n",
       "0                     86.17%   Investir  \n",
       "1                     84.29%   Investir  \n",
       "2                      63.6%   Investir  \n",
       "3                          -   Investir  \n",
       "4                          -   Investir  "
      ]
     },
     "execution_count": 25,
     "metadata": {},
     "output_type": "execute_result"
    }
   ],
   "source": [
    "pd.read_html(tabelas_lcas, decimal = ',', thousands= '.')[0] # indexar para retornar o dataframe de dentro da lista"
   ]
  }
 ],
 "metadata": {
  "colab": {
   "provenance": []
  },
  "kernelspec": {
   "display_name": "Python 3 (ipykernel)",
   "language": "python",
   "name": "python3"
  },
  "language_info": {
   "codemirror_mode": {
    "name": "ipython",
    "version": 3
   },
   "file_extension": ".py",
   "mimetype": "text/x-python",
   "name": "python",
   "nbconvert_exporter": "python",
   "pygments_lexer": "ipython3",
   "version": "3.11.5"
  }
 },
 "nbformat": 4,
 "nbformat_minor": 1
}
